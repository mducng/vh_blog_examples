{
 "cells": [
  {
   "cell_type": "code",
   "execution_count": 1,
   "metadata": {},
   "outputs": [
    {
     "name": "stdout",
     "output_type": "stream",
     "text": [
      "Button pressed\n",
      "YELLOW: Traffic slowing\n",
      "RED: Traffic stopped\n",
      "GREEN: Traffic going\n",
      "Button pressed\n",
      "YELLOW: Traffic slowing\n",
      "RED: Traffic stopped\n",
      "GREEN: Traffic going\n"
     ]
    }
   ],
   "source": [
    "import time\n",
    "\n",
    "async def green():\n",
    "    await red()\n",
    "    print(\"GREEN: Traffic going\")\n",
    "\n",
    "async def yellow():\n",
    "    print(\"YELLOW: Traffic slowing\")\n",
    "    time.sleep(0.5)\n",
    "\n",
    "async def red():\n",
    "    await yellow()\n",
    "    print(\"RED: Traffic stopped\")\n",
    "    time.sleep(2)\n",
    "\n",
    "async def traffic():\n",
    "    for _ in range(2):\n",
    "        time.sleep(1)\n",
    "        print (\"Button pressed\")\n",
    "        await green()\n",
    "\n",
    "await traffic()"
   ]
  },
  {
   "cell_type": "code",
   "execution_count": null,
   "metadata": {},
   "outputs": [],
   "source": []
  }
 ],
 "metadata": {
  "kernelspec": {
   "display_name": "Python 3",
   "language": "python",
   "name": "python3"
  },
  "language_info": {
   "codemirror_mode": {
    "name": "ipython",
    "version": 3
   },
   "file_extension": ".py",
   "mimetype": "text/x-python",
   "name": "python",
   "nbconvert_exporter": "python",
   "pygments_lexer": "ipython3",
   "version": "3.8.3"
  }
 },
 "nbformat": 4,
 "nbformat_minor": 4
}
